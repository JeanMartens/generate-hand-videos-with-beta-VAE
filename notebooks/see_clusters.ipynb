{
 "cells": [
  {
   "cell_type": "code",
   "execution_count": null,
   "id": "49a3bd0a-a3b2-4939-9d50-d7536a6e70b1",
   "metadata": {},
   "outputs": [],
   "source": [
    "#Can't see latent space clusters with higher latent space vectors.."
   ]
  }
 ],
 "metadata": {
  "kernelspec": {
   "display_name": "Python 3 (ipykernel)",
   "language": "python",
   "name": "python3"
  },
  "language_info": {
   "codemirror_mode": {
    "name": "ipython",
    "version": 3
   },
   "file_extension": ".py",
   "mimetype": "text/x-python",
   "name": "python",
   "nbconvert_exporter": "python",
   "pygments_lexer": "ipython3",
   "version": "3.10.11"
  }
 },
 "nbformat": 4,
 "nbformat_minor": 5
}
